{
 "cells": [
  {
   "cell_type": "code",
   "execution_count": 1,
   "metadata": {},
   "outputs": [
    {
     "name": "stdout",
     "output_type": "stream",
     "text": [
      "Python: 3.8.5 (default, Sep  4 2020, 07:30:14) \n",
      "[GCC 7.3.0]\n",
      "NumPy: 1.16.4\n",
      "Pandas: 0.25.3\n",
      "Scikit-learn: 0.23.2\n",
      "SpaCy: 2.3.4\n"
     ]
    }
   ],
   "source": [
    "import sys\n",
    "print(\"Python:\", sys.version)\n",
    "\n",
    "import numpy as np\n",
    "print(\"NumPy:\", np.__version__)\n",
    "\n",
    "import pandas as pd\n",
    "print(\"Pandas:\", pd.__version__)\n",
    "\n",
    "import sklearn\n",
    "print(\"Scikit-learn:\", sklearn.__version__)\n",
    "\n",
    "import spacy\n",
    "print(\"SpaCy:\", spacy.__version__)\n",
    "\n",
    "from itertools import chain\n",
    "\n",
    "import nltk\n",
    "import sklearn\n",
    "import scipy.stats\n",
    "from sklearn.metrics import make_scorer\n",
    "\n",
    "import sklearn_crfsuite\n",
    "from sklearn_crfsuite import scorers\n",
    "from sklearn_crfsuite import metrics"
   ]
  },
  {
   "cell_type": "code",
   "execution_count": 2,
   "metadata": {},
   "outputs": [],
   "source": [
    "import nltk\n",
    "#nltk.download('brown')\n",
    "#nltk.download('universal_tagset')\n",
    "from nltk.corpus import brown"
   ]
  },
  {
   "cell_type": "markdown",
   "metadata": {},
   "source": [
    "### Load data"
   ]
  },
  {
   "cell_type": "code",
   "execution_count": 3,
   "metadata": {},
   "outputs": [
    {
     "data": {
      "text/plain": [
       "[('The', 'DET'), ('Fulton', 'NOUN'), ...]"
      ]
     },
     "execution_count": 3,
     "metadata": {},
     "output_type": "execute_result"
    }
   ],
   "source": [
    "brown.tagged_words(tagset='universal')"
   ]
  },
  {
   "cell_type": "code",
   "execution_count": 4,
   "metadata": {},
   "outputs": [],
   "source": [
    "nlp = spacy.load(\"en\")"
   ]
  },
  {
   "cell_type": "code",
   "execution_count": 5,
   "metadata": {},
   "outputs": [
    {
     "data": {
      "text/plain": [
       "[('The', 'DET'), ('Fulton', 'NOUN'), ('County', 'NOUN')]"
      ]
     },
     "execution_count": 5,
     "metadata": {},
     "output_type": "execute_result"
    }
   ],
   "source": [
    "brown.tagged_words(tagset='universal')[:3]"
   ]
  },
  {
   "cell_type": "markdown",
   "metadata": {},
   "source": [
    "### Split data into train, test set"
   ]
  },
  {
   "cell_type": "code",
   "execution_count": 6,
   "metadata": {},
   "outputs": [
    {
     "name": "stdout",
     "output_type": "stream",
     "text": [
      "Train size: 45872\n",
      "Test size: 11468\n"
     ]
    }
   ],
   "source": [
    "data = brown.tagged_sents(tagset='universal')\n",
    "data_size = len(data)\n",
    "train_size = int(data_size * 0.8)\n",
    "train, test = data[:train_size], data[train_size:]\n",
    "print(f\"Train size: {len(train)}\")\n",
    "print(f\"Test size: {len(test)}\")"
   ]
  },
  {
   "cell_type": "markdown",
   "metadata": {},
   "source": [
    "### Define feature transform functions"
   ]
  },
  {
   "cell_type": "code",
   "execution_count": 7,
   "metadata": {},
   "outputs": [],
   "source": [
    "def word2features(sent, i):\n",
    "    word = sent[i][0]\n",
    "    postag = sent[i][1]\n",
    "\n",
    "    features = {\n",
    "        'bias': 1.0,\n",
    "        'word.lower()': word.lower(),\n",
    "        'word[-3:]': word[-3:],\n",
    "        'word[-2:]': word[-2:],\n",
    "        'word.isupper()': word.isupper(),\n",
    "        'word.istitle()': word.istitle(),\n",
    "        'word.isdigit()': word.isdigit(),\n",
    "        'postag': postag,\n",
    "        'postag[:2]': postag[:2],\n",
    "    }\n",
    "    if i > 0:\n",
    "        word1 = sent[i-1][0]\n",
    "        postag1 = sent[i-1][1]\n",
    "        features.update({\n",
    "            '-1:word.lower()': word1.lower(),\n",
    "            '-1:word.istitle()': word1.istitle(),\n",
    "            '-1:word.isupper()': word1.isupper(),\n",
    "            '-1:postag': postag1,\n",
    "            '-1:postag[:2]': postag1[:2],\n",
    "        })\n",
    "    else:\n",
    "        features['BOS'] = True\n",
    "\n",
    "    if i < len(sent)-1:\n",
    "        word1 = sent[i+1][0]\n",
    "        postag1 = sent[i+1][1]\n",
    "        features.update({\n",
    "            '+1:word.lower()': word1.lower(),\n",
    "            '+1:word.istitle()': word1.istitle(),\n",
    "            '+1:word.isupper()': word1.isupper(),\n",
    "            '+1:postag': postag1,\n",
    "            '+1:postag[:2]': postag1[:2],\n",
    "        })\n",
    "    else:\n",
    "        features['EOS'] = True\n",
    "\n",
    "    return features\n",
    "\n",
    "\n",
    "def sent2features(sent):\n",
    "    return [word2features(sent, i) for i in range(len(sent))]\n",
    "\n",
    "def sent2pos(sent):\n",
    "    return [postag for token, postag in sent]\n",
    "\n",
    "def sent2tokens(sent):\n",
    "    return [token for token, postag in sent]"
   ]
  },
  {
   "cell_type": "code",
   "execution_count": 8,
   "metadata": {},
   "outputs": [
    {
     "data": {
      "text/plain": [
       "{'bias': 1.0,\n",
       " 'word.lower()': 'the',\n",
       " 'word[-3:]': 'The',\n",
       " 'word[-2:]': 'he',\n",
       " 'word.isupper()': False,\n",
       " 'word.istitle()': True,\n",
       " 'word.isdigit()': False,\n",
       " 'postag': 'DET',\n",
       " 'postag[:2]': 'DE',\n",
       " 'BOS': True,\n",
       " '+1:word.lower()': 'fulton',\n",
       " '+1:word.istitle()': True,\n",
       " '+1:word.isupper()': False,\n",
       " '+1:postag': 'NOUN',\n",
       " '+1:postag[:2]': 'NO'}"
      ]
     },
     "execution_count": 8,
     "metadata": {},
     "output_type": "execute_result"
    }
   ],
   "source": [
    "sent2features(data[0])[0]"
   ]
  },
  {
   "cell_type": "markdown",
   "metadata": {},
   "source": [
    "### Get features"
   ]
  },
  {
   "cell_type": "code",
   "execution_count": 9,
   "metadata": {},
   "outputs": [],
   "source": [
    "X_train = [sent2features(s) for s in train]\n",
    "y_train = [sent2pos(s) for s in train]"
   ]
  },
  {
   "cell_type": "code",
   "execution_count": 10,
   "metadata": {},
   "outputs": [],
   "source": [
    "X_test = [sent2features(s) for s in test]\n",
    "y_test = [sent2pos(s) for s in test]"
   ]
  },
  {
   "cell_type": "markdown",
   "metadata": {},
   "source": [
    "### Training"
   ]
  },
  {
   "cell_type": "code",
   "execution_count": 11,
   "metadata": {},
   "outputs": [
    {
     "name": "stderr",
     "output_type": "stream",
     "text": [
      "/home/kevin/miniconda3/envs/dataS/lib/python3.8/site-packages/sklearn/base.py:209: FutureWarning: From version 0.24, get_params will raise an AttributeError if a parameter cannot be retrieved as an instance attribute. Previously it would return None.\n",
      "  warnings.warn('From version 0.24, get_params will raise an '\n"
     ]
    },
    {
     "data": {
      "text/plain": [
       "CRF(algorithm='lbfgs', all_possible_transitions=True, c1=0.1, c2=0.1,\n",
       "    keep_tempfiles=None, max_iterations=100)"
      ]
     },
     "execution_count": 11,
     "metadata": {},
     "output_type": "execute_result"
    }
   ],
   "source": [
    "crf = sklearn_crfsuite.CRF(\n",
    "    algorithm='lbfgs',\n",
    "    c1=0.1,\n",
    "    c2=0.1,\n",
    "    max_iterations=100,\n",
    "    all_possible_transitions=True\n",
    ")\n",
    "crf.fit(X_train, y_train)"
   ]
  },
  {
   "cell_type": "code",
   "execution_count": 12,
   "metadata": {},
   "outputs": [
    {
     "data": {
      "text/plain": [
       "['DET',\n",
       " 'NOUN',\n",
       " 'ADJ',\n",
       " 'VERB',\n",
       " 'ADP',\n",
       " '.',\n",
       " 'ADV',\n",
       " 'CONJ',\n",
       " 'PRT',\n",
       " 'PRON',\n",
       " 'NUM',\n",
       " 'X']"
      ]
     },
     "execution_count": 12,
     "metadata": {},
     "output_type": "execute_result"
    }
   ],
   "source": [
    "crf.classes_"
   ]
  },
  {
   "cell_type": "markdown",
   "metadata": {},
   "source": [
    "### Testing"
   ]
  },
  {
   "cell_type": "code",
   "execution_count": 13,
   "metadata": {},
   "outputs": [
    {
     "data": {
      "text/plain": [
       "1.0"
      ]
     },
     "execution_count": 13,
     "metadata": {},
     "output_type": "execute_result"
    }
   ],
   "source": [
    "y_pred = crf.predict(X_test)\n",
    "metrics.flat_f1_score(y_test, y_pred,\n",
    "                      average='weighted')"
   ]
  },
  {
   "cell_type": "code",
   "execution_count": 14,
   "metadata": {},
   "outputs": [
    {
     "data": {
      "text/plain": [
       "[{'bias': 1.0,\n",
       "  'word.lower()': 'the',\n",
       "  'word[-3:]': 'The',\n",
       "  'word[-2:]': 'he',\n",
       "  'word.isupper()': False,\n",
       "  'word.istitle()': True,\n",
       "  'word.isdigit()': False,\n",
       "  'postag': 'DET',\n",
       "  'postag[:2]': 'DE',\n",
       "  'BOS': True,\n",
       "  '+1:word.lower()': 'quarrel',\n",
       "  '+1:word.istitle()': False,\n",
       "  '+1:word.isupper()': False,\n",
       "  '+1:postag': 'NOUN',\n",
       "  '+1:postag[:2]': 'NO'},\n",
       " {'bias': 1.0,\n",
       "  'word.lower()': 'quarrel',\n",
       "  'word[-3:]': 'rel',\n",
       "  'word[-2:]': 'el',\n",
       "  'word.isupper()': False,\n",
       "  'word.istitle()': False,\n",
       "  'word.isdigit()': False,\n",
       "  'postag': 'NOUN',\n",
       "  'postag[:2]': 'NO',\n",
       "  '-1:word.lower()': 'the',\n",
       "  '-1:word.istitle()': True,\n",
       "  '-1:word.isupper()': False,\n",
       "  '-1:postag': 'DET',\n",
       "  '-1:postag[:2]': 'DE',\n",
       "  '+1:word.lower()': 'ended',\n",
       "  '+1:word.istitle()': False,\n",
       "  '+1:word.isupper()': False,\n",
       "  '+1:postag': 'VERB',\n",
       "  '+1:postag[:2]': 'VE'},\n",
       " {'bias': 1.0,\n",
       "  'word.lower()': 'ended',\n",
       "  'word[-3:]': 'ded',\n",
       "  'word[-2:]': 'ed',\n",
       "  'word.isupper()': False,\n",
       "  'word.istitle()': False,\n",
       "  'word.isdigit()': False,\n",
       "  'postag': 'VERB',\n",
       "  'postag[:2]': 'VE',\n",
       "  '-1:word.lower()': 'quarrel',\n",
       "  '-1:word.istitle()': False,\n",
       "  '-1:word.isupper()': False,\n",
       "  '-1:postag': 'NOUN',\n",
       "  '-1:postag[:2]': 'NO',\n",
       "  '+1:word.lower()': 'in',\n",
       "  '+1:word.istitle()': False,\n",
       "  '+1:word.isupper()': False,\n",
       "  '+1:postag': 'ADP',\n",
       "  '+1:postag[:2]': 'AD'},\n",
       " {'bias': 1.0,\n",
       "  'word.lower()': 'in',\n",
       "  'word[-3:]': 'in',\n",
       "  'word[-2:]': 'in',\n",
       "  'word.isupper()': False,\n",
       "  'word.istitle()': False,\n",
       "  'word.isdigit()': False,\n",
       "  'postag': 'ADP',\n",
       "  'postag[:2]': 'AD',\n",
       "  '-1:word.lower()': 'ended',\n",
       "  '-1:word.istitle()': False,\n",
       "  '-1:word.isupper()': False,\n",
       "  '-1:postag': 'VERB',\n",
       "  '-1:postag[:2]': 'VE',\n",
       "  '+1:word.lower()': 'a',\n",
       "  '+1:word.istitle()': False,\n",
       "  '+1:word.isupper()': False,\n",
       "  '+1:postag': 'DET',\n",
       "  '+1:postag[:2]': 'DE'},\n",
       " {'bias': 1.0,\n",
       "  'word.lower()': 'a',\n",
       "  'word[-3:]': 'a',\n",
       "  'word[-2:]': 'a',\n",
       "  'word.isupper()': False,\n",
       "  'word.istitle()': False,\n",
       "  'word.isdigit()': False,\n",
       "  'postag': 'DET',\n",
       "  'postag[:2]': 'DE',\n",
       "  '-1:word.lower()': 'in',\n",
       "  '-1:word.istitle()': False,\n",
       "  '-1:word.isupper()': False,\n",
       "  '-1:postag': 'ADP',\n",
       "  '-1:postag[:2]': 'AD',\n",
       "  '+1:word.lower()': 'ridiculous',\n",
       "  '+1:word.istitle()': False,\n",
       "  '+1:word.isupper()': False,\n",
       "  '+1:postag': 'ADJ',\n",
       "  '+1:postag[:2]': 'AD'},\n",
       " {'bias': 1.0,\n",
       "  'word.lower()': 'ridiculous',\n",
       "  'word[-3:]': 'ous',\n",
       "  'word[-2:]': 'us',\n",
       "  'word.isupper()': False,\n",
       "  'word.istitle()': False,\n",
       "  'word.isdigit()': False,\n",
       "  'postag': 'ADJ',\n",
       "  'postag[:2]': 'AD',\n",
       "  '-1:word.lower()': 'a',\n",
       "  '-1:word.istitle()': False,\n",
       "  '-1:word.isupper()': False,\n",
       "  '-1:postag': 'DET',\n",
       "  '-1:postag[:2]': 'DE',\n",
       "  '+1:word.lower()': 'draw',\n",
       "  '+1:word.istitle()': False,\n",
       "  '+1:word.isupper()': False,\n",
       "  '+1:postag': 'NOUN',\n",
       "  '+1:postag[:2]': 'NO'},\n",
       " {'bias': 1.0,\n",
       "  'word.lower()': 'draw',\n",
       "  'word[-3:]': 'raw',\n",
       "  'word[-2:]': 'aw',\n",
       "  'word.isupper()': False,\n",
       "  'word.istitle()': False,\n",
       "  'word.isdigit()': False,\n",
       "  'postag': 'NOUN',\n",
       "  'postag[:2]': 'NO',\n",
       "  '-1:word.lower()': 'ridiculous',\n",
       "  '-1:word.istitle()': False,\n",
       "  '-1:word.isupper()': False,\n",
       "  '-1:postag': 'ADJ',\n",
       "  '-1:postag[:2]': 'AD',\n",
       "  '+1:word.lower()': ',',\n",
       "  '+1:word.istitle()': False,\n",
       "  '+1:word.isupper()': False,\n",
       "  '+1:postag': '.',\n",
       "  '+1:postag[:2]': '.'},\n",
       " {'bias': 1.0,\n",
       "  'word.lower()': ',',\n",
       "  'word[-3:]': ',',\n",
       "  'word[-2:]': ',',\n",
       "  'word.isupper()': False,\n",
       "  'word.istitle()': False,\n",
       "  'word.isdigit()': False,\n",
       "  'postag': '.',\n",
       "  'postag[:2]': '.',\n",
       "  '-1:word.lower()': 'draw',\n",
       "  '-1:word.istitle()': False,\n",
       "  '-1:word.isupper()': False,\n",
       "  '-1:postag': 'NOUN',\n",
       "  '-1:postag[:2]': 'NO',\n",
       "  '+1:word.lower()': 'but',\n",
       "  '+1:word.istitle()': False,\n",
       "  '+1:word.isupper()': False,\n",
       "  '+1:postag': 'CONJ',\n",
       "  '+1:postag[:2]': 'CO'},\n",
       " {'bias': 1.0,\n",
       "  'word.lower()': 'but',\n",
       "  'word[-3:]': 'but',\n",
       "  'word[-2:]': 'ut',\n",
       "  'word.isupper()': False,\n",
       "  'word.istitle()': False,\n",
       "  'word.isdigit()': False,\n",
       "  'postag': 'CONJ',\n",
       "  'postag[:2]': 'CO',\n",
       "  '-1:word.lower()': ',',\n",
       "  '-1:word.istitle()': False,\n",
       "  '-1:word.isupper()': False,\n",
       "  '-1:postag': '.',\n",
       "  '-1:postag[:2]': '.',\n",
       "  '+1:word.lower()': 'i',\n",
       "  '+1:word.istitle()': True,\n",
       "  '+1:word.isupper()': True,\n",
       "  '+1:postag': 'PRON',\n",
       "  '+1:postag[:2]': 'PR'},\n",
       " {'bias': 1.0,\n",
       "  'word.lower()': 'i',\n",
       "  'word[-3:]': 'I',\n",
       "  'word[-2:]': 'I',\n",
       "  'word.isupper()': True,\n",
       "  'word.istitle()': True,\n",
       "  'word.isdigit()': False,\n",
       "  'postag': 'PRON',\n",
       "  'postag[:2]': 'PR',\n",
       "  '-1:word.lower()': 'but',\n",
       "  '-1:word.istitle()': False,\n",
       "  '-1:word.isupper()': False,\n",
       "  '-1:postag': 'CONJ',\n",
       "  '-1:postag[:2]': 'CO',\n",
       "  '+1:word.lower()': 'must',\n",
       "  '+1:word.istitle()': False,\n",
       "  '+1:word.isupper()': False,\n",
       "  '+1:postag': 'VERB',\n",
       "  '+1:postag[:2]': 'VE'},\n",
       " {'bias': 1.0,\n",
       "  'word.lower()': 'must',\n",
       "  'word[-3:]': 'ust',\n",
       "  'word[-2:]': 'st',\n",
       "  'word.isupper()': False,\n",
       "  'word.istitle()': False,\n",
       "  'word.isdigit()': False,\n",
       "  'postag': 'VERB',\n",
       "  'postag[:2]': 'VE',\n",
       "  '-1:word.lower()': 'i',\n",
       "  '-1:word.istitle()': True,\n",
       "  '-1:word.isupper()': True,\n",
       "  '-1:postag': 'PRON',\n",
       "  '-1:postag[:2]': 'PR',\n",
       "  '+1:word.lower()': 'tell',\n",
       "  '+1:word.istitle()': False,\n",
       "  '+1:word.isupper()': False,\n",
       "  '+1:postag': 'VERB',\n",
       "  '+1:postag[:2]': 'VE'},\n",
       " {'bias': 1.0,\n",
       "  'word.lower()': 'tell',\n",
       "  'word[-3:]': 'ell',\n",
       "  'word[-2:]': 'll',\n",
       "  'word.isupper()': False,\n",
       "  'word.istitle()': False,\n",
       "  'word.isdigit()': False,\n",
       "  'postag': 'VERB',\n",
       "  'postag[:2]': 'VE',\n",
       "  '-1:word.lower()': 'must',\n",
       "  '-1:word.istitle()': False,\n",
       "  '-1:word.isupper()': False,\n",
       "  '-1:postag': 'VERB',\n",
       "  '-1:postag[:2]': 'VE',\n",
       "  '+1:word.lower()': 'you',\n",
       "  '+1:word.istitle()': False,\n",
       "  '+1:word.isupper()': False,\n",
       "  '+1:postag': 'PRON',\n",
       "  '+1:postag[:2]': 'PR'},\n",
       " {'bias': 1.0,\n",
       "  'word.lower()': 'you',\n",
       "  'word[-3:]': 'you',\n",
       "  'word[-2:]': 'ou',\n",
       "  'word.isupper()': False,\n",
       "  'word.istitle()': False,\n",
       "  'word.isdigit()': False,\n",
       "  'postag': 'PRON',\n",
       "  'postag[:2]': 'PR',\n",
       "  '-1:word.lower()': 'tell',\n",
       "  '-1:word.istitle()': False,\n",
       "  '-1:word.isupper()': False,\n",
       "  '-1:postag': 'VERB',\n",
       "  '-1:postag[:2]': 'VE',\n",
       "  '+1:word.lower()': 'about',\n",
       "  '+1:word.istitle()': False,\n",
       "  '+1:word.isupper()': False,\n",
       "  '+1:postag': 'ADP',\n",
       "  '+1:postag[:2]': 'AD'},\n",
       " {'bias': 1.0,\n",
       "  'word.lower()': 'about',\n",
       "  'word[-3:]': 'out',\n",
       "  'word[-2:]': 'ut',\n",
       "  'word.isupper()': False,\n",
       "  'word.istitle()': False,\n",
       "  'word.isdigit()': False,\n",
       "  'postag': 'ADP',\n",
       "  'postag[:2]': 'AD',\n",
       "  '-1:word.lower()': 'you',\n",
       "  '-1:word.istitle()': False,\n",
       "  '-1:word.isupper()': False,\n",
       "  '-1:postag': 'PRON',\n",
       "  '-1:postag[:2]': 'PR',\n",
       "  '+1:word.lower()': 'it',\n",
       "  '+1:word.istitle()': False,\n",
       "  '+1:word.isupper()': False,\n",
       "  '+1:postag': 'PRON',\n",
       "  '+1:postag[:2]': 'PR'},\n",
       " {'bias': 1.0,\n",
       "  'word.lower()': 'it',\n",
       "  'word[-3:]': 'it',\n",
       "  'word[-2:]': 'it',\n",
       "  'word.isupper()': False,\n",
       "  'word.istitle()': False,\n",
       "  'word.isdigit()': False,\n",
       "  'postag': 'PRON',\n",
       "  'postag[:2]': 'PR',\n",
       "  '-1:word.lower()': 'about',\n",
       "  '-1:word.istitle()': False,\n",
       "  '-1:word.isupper()': False,\n",
       "  '-1:postag': 'ADP',\n",
       "  '-1:postag[:2]': 'AD',\n",
       "  '+1:word.lower()': '.',\n",
       "  '+1:word.istitle()': False,\n",
       "  '+1:word.isupper()': False,\n",
       "  '+1:postag': '.',\n",
       "  '+1:postag[:2]': '.'},\n",
       " {'bias': 1.0,\n",
       "  'word.lower()': '.',\n",
       "  'word[-3:]': '.',\n",
       "  'word[-2:]': '.',\n",
       "  'word.isupper()': False,\n",
       "  'word.istitle()': False,\n",
       "  'word.isdigit()': False,\n",
       "  'postag': '.',\n",
       "  'postag[:2]': '.',\n",
       "  '-1:word.lower()': 'it',\n",
       "  '-1:word.istitle()': False,\n",
       "  '-1:word.isupper()': False,\n",
       "  '-1:postag': 'PRON',\n",
       "  '-1:postag[:2]': 'PR',\n",
       "  'EOS': True}]"
      ]
     },
     "execution_count": 14,
     "metadata": {},
     "output_type": "execute_result"
    }
   ],
   "source": [
    "X_test[0]"
   ]
  },
  {
   "cell_type": "markdown",
   "metadata": {},
   "source": [
    "### Running on custom text"
   ]
  },
  {
   "cell_type": "code",
   "execution_count": 15,
   "metadata": {},
   "outputs": [],
   "source": [
    "def transform(text):\n",
    "    if isinstance(text, spacy.tokens.doc.Doc):\n",
    "        # already tokenized\n",
    "        return [token for token in text]\n",
    "    return [word for word in text.split(' ')]\n",
    "\n",
    "def predict(text):\n",
    "    pre = transform(text)\n",
    "    post = sent2features(pre)\n",
    "    return crf.predict(post)"
   ]
  },
  {
   "cell_type": "code",
   "execution_count": 16,
   "metadata": {},
   "outputs": [
    {
     "data": {
      "text/plain": [
       "[['X', 'X', 'X', 'X', 'X', 'X', 'X', 'X', 'X', 'X', 'X', 'X', 'X', 'X', 'X'],\n",
       " ['X',\n",
       "  'X',\n",
       "  'X',\n",
       "  'X',\n",
       "  'X',\n",
       "  'X',\n",
       "  'X',\n",
       "  'X',\n",
       "  'X',\n",
       "  'X',\n",
       "  'X',\n",
       "  'X',\n",
       "  'X',\n",
       "  'X',\n",
       "  'X',\n",
       "  'X',\n",
       "  'X',\n",
       "  'X',\n",
       "  'X'],\n",
       " ['X',\n",
       "  'X',\n",
       "  'X',\n",
       "  'X',\n",
       "  'X',\n",
       "  'X',\n",
       "  'X',\n",
       "  'X',\n",
       "  'X',\n",
       "  'X',\n",
       "  'X',\n",
       "  'X',\n",
       "  'X',\n",
       "  'X',\n",
       "  'X',\n",
       "  'X',\n",
       "  'X',\n",
       "  'X',\n",
       "  'X'],\n",
       " ['X',\n",
       "  'X',\n",
       "  'X',\n",
       "  'X',\n",
       "  'X',\n",
       "  'X',\n",
       "  'X',\n",
       "  'X',\n",
       "  'X',\n",
       "  'X',\n",
       "  'X',\n",
       "  'X',\n",
       "  'X',\n",
       "  'X',\n",
       "  'X',\n",
       "  'X',\n",
       "  'X',\n",
       "  'X',\n",
       "  'X'],\n",
       " ['X',\n",
       "  'X',\n",
       "  'X',\n",
       "  'X',\n",
       "  'X',\n",
       "  'X',\n",
       "  'X',\n",
       "  'X',\n",
       "  'X',\n",
       "  'X',\n",
       "  'X',\n",
       "  'X',\n",
       "  'X',\n",
       "  'X',\n",
       "  'X',\n",
       "  'X',\n",
       "  'X',\n",
       "  'X',\n",
       "  'X'],\n",
       " ['X', 'X', 'X', 'X', 'X', 'X', 'X', 'X', 'X', 'X', 'X', 'X', 'X', 'X', 'X']]"
      ]
     },
     "execution_count": 16,
     "metadata": {},
     "output_type": "execute_result"
    }
   ],
   "source": [
    "predict(\"Mom pick me up I'm scared\")"
   ]
  },
  {
   "cell_type": "code",
   "execution_count": null,
   "metadata": {},
   "outputs": [],
   "source": []
  }
 ],
 "metadata": {
  "kernelspec": {
   "display_name": "Python 3",
   "language": "python",
   "name": "python3"
  },
  "language_info": {
   "codemirror_mode": {
    "name": "ipython",
    "version": 3
   },
   "file_extension": ".py",
   "mimetype": "text/x-python",
   "name": "python",
   "nbconvert_exporter": "python",
   "pygments_lexer": "ipython3",
   "version": "3.8.5"
  }
 },
 "nbformat": 4,
 "nbformat_minor": 4
}
