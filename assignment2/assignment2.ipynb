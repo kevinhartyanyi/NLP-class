{
 "cells": [
  {
   "cell_type": "markdown",
   "metadata": {},
   "source": [
    "# Importing the libraries that the program needs"
   ]
  },
  {
   "cell_type": "code",
   "execution_count": 1,
   "metadata": {},
   "outputs": [
    {
     "name": "stdout",
     "output_type": "stream",
     "text": [
      "Python: 3.8.5 (default, Sep  4 2020, 07:30:14) \n",
      "[GCC 7.3.0]\n",
      "NumPy: 1.16.4\n",
      "Pandas: 0.25.3\n",
      "Scikit-learn: 0.23.2\n",
      "SpaCy: 2.3.4\n"
     ]
    }
   ],
   "source": [
    "import sys\n",
    "print(\"Python:\", sys.version)\n",
    "\n",
    "import numpy as np\n",
    "print(\"NumPy:\", np.__version__)\n",
    "\n",
    "import pandas as pd\n",
    "print(\"Pandas:\", pd.__version__)\n",
    "\n",
    "import sklearn\n",
    "print(\"Scikit-learn:\", sklearn.__version__)\n",
    "\n",
    "import spacy\n",
    "from spacy.tokens import Doc\n",
    "from spacy.attrs import IS_TITLE, LOWER, IS_ALPHA, IS_UPPER, IS_DIGIT\n",
    "print(\"SpaCy:\", spacy.__version__)\n",
    "\n",
    "from itertools import chain\n",
    "\n",
    "import nltk\n",
    "import sklearn\n",
    "import scipy.stats\n",
    "from sklearn.metrics import make_scorer\n",
    "\n",
    "import sklearn_crfsuite\n",
    "from sklearn_crfsuite import scorers\n",
    "from sklearn_crfsuite import metrics"
   ]
  },
  {
   "cell_type": "markdown",
   "metadata": {},
   "source": [
    "# Downloading the brown corpus"
   ]
  },
  {
   "cell_type": "code",
   "execution_count": 2,
   "metadata": {},
   "outputs": [
    {
     "name": "stderr",
     "output_type": "stream",
     "text": [
      "[nltk_data] Downloading package brown to /home/kevin/nltk_data...\n",
      "[nltk_data]   Package brown is already up-to-date!\n",
      "[nltk_data] Downloading package universal_tagset to\n",
      "[nltk_data]     /home/kevin/nltk_data...\n",
      "[nltk_data]   Package universal_tagset is already up-to-date!\n"
     ]
    }
   ],
   "source": [
    "import nltk\n",
    "nltk.download('brown')\n",
    "nltk.download('universal_tagset')\n",
    "from nltk.corpus import brown"
   ]
  },
  {
   "cell_type": "markdown",
   "metadata": {},
   "source": [
    "### Load data with the universal tagset, so it contains the POS tags as well, because we will need it in the training"
   ]
  },
  {
   "cell_type": "code",
   "execution_count": 3,
   "metadata": {},
   "outputs": [
    {
     "data": {
      "text/plain": [
       "[('The', 'DET'), ('Fulton', 'NOUN'), ...]"
      ]
     },
     "execution_count": 3,
     "metadata": {},
     "output_type": "execute_result"
    }
   ],
   "source": [
    "brown.tagged_words(tagset='universal')"
   ]
  },
  {
   "cell_type": "markdown",
   "metadata": {},
   "source": [
    "### The brown corpus contains english sentences, so we need to load the english version of spacy"
   ]
  },
  {
   "cell_type": "code",
   "execution_count": 4,
   "metadata": {},
   "outputs": [],
   "source": [
    "nlp = spacy.load(\"en\")"
   ]
  },
  {
   "cell_type": "code",
   "execution_count": 5,
   "metadata": {},
   "outputs": [
    {
     "data": {
      "text/plain": [
       "[('The', 'DET'), ('Fulton', 'NOUN'), ('County', 'NOUN')]"
      ]
     },
     "execution_count": 5,
     "metadata": {},
     "output_type": "execute_result"
    }
   ],
   "source": [
    "brown.tagged_words(tagset='universal')[:3]"
   ]
  },
  {
   "cell_type": "markdown",
   "metadata": {},
   "source": [
    "## Split data into train, test set"
   ]
  },
  {
   "cell_type": "markdown",
   "metadata": {},
   "source": [
    "### First let's define a function that will do the preprocessing of the brown corpus. This will convert the (str, POS) pairs of the brown corpus into a list of (Doc, POS) pairs. <br> <br>We need the Doc so we can use some special feature extractions like is_stop."
   ]
  },
  {
   "cell_type": "code",
   "execution_count": 6,
   "metadata": {},
   "outputs": [],
   "source": [
    "def process_corpus(data):\n",
    "    processed = []\n",
    "    for i in data:\n",
    "        sentence, postags = map(list, zip(*i))\n",
    "        processed.append((Doc(nlp.vocab, sentence), postags))\n",
    "    return processed"
   ]
  },
  {
   "cell_type": "markdown",
   "metadata": {},
   "source": [
    "### We go through the corpus and apply our function, after that we split the data into train and test using a 80%-20% split. <br><br> We need to use separate data for the training and testing so our model won't overfit."
   ]
  },
  {
   "cell_type": "code",
   "execution_count": 7,
   "metadata": {},
   "outputs": [
    {
     "name": "stdout",
     "output_type": "stream",
     "text": [
      "Train size: 45872\n",
      "Test size: 11468\n"
     ]
    }
   ],
   "source": [
    "data = process_corpus(brown.tagged_sents(tagset='universal'))\n",
    "data_size = len(data)\n",
    "train_size = int(data_size * 0.8)\n",
    "# Split\n",
    "train, test = data[:train_size], data[train_size:]\n",
    "\n",
    "print(f\"Train size: {len(train)}\")\n",
    "print(f\"Test size: {len(test)}\")"
   ]
  },
  {
   "cell_type": "markdown",
   "metadata": {},
   "source": [
    "### Define feature extraction functions. We use features from the Doc and from the str. To use functions like \".lower()\" we need to convert the Doc into str, we can do this with the \".text\" property of the Doc. <br><br> We return \"BOS\" if this is the first word of the sentence and \"EOS\" if this is the last word of the sentence"
   ]
  },
  {
   "cell_type": "markdown",
   "metadata": {},
   "source": [
    "### To support list of tokens and Doc as well we need to check the type at the beginning of single_token2feature"
   ]
  },
  {
   "cell_type": "code",
   "execution_count": 8,
   "metadata": {},
   "outputs": [],
   "source": [
    "def token2features(tokens):\n",
    "    def single_token2feature(tokens, i):\n",
    "        text = ' '.join([t.text for t in tokens]) if isinstance(tokens, list) else tokens.text\n",
    "        word = tokens[i]\n",
    "\n",
    "        features = {\n",
    "            #'bias': 1.0,\n",
    "            'word.lower()': word.check_flag(LOWER),\n",
    "            'word[-3:]': word.text[-3:],\n",
    "            'word[-2:]': word.text[-2:],\n",
    "            'word.isupper()': word.check_flag(IS_UPPER),\n",
    "            'word.istitle()': word.check_flag(IS_TITLE),\n",
    "            'word.isdigit()': word.check_flag(IS_DIGIT),\n",
    "            'is_stop': word.is_stop,\n",
    "            'is_alpha': word.is_alpha,\n",
    "        }\n",
    "        if i > 0:\n",
    "            word1 = text[i-1][0]\n",
    "            features.update({\n",
    "                '-1:word.lower()': word1.lower(),\n",
    "                '-1:word.istitle()': word1.istitle(),\n",
    "                '-1:word.isupper()': word1.isupper(),\n",
    "            })\n",
    "        else:\n",
    "            features['BOS'] = True\n",
    "\n",
    "        if i < len(tokens)-1:\n",
    "            word1 = text[i+1][0]\n",
    "            features.update({\n",
    "                '+1:word.lower()': word1.lower(),\n",
    "                '+1:word.istitle()': word1.istitle(),\n",
    "                '+1:word.isupper()': word1.isupper(),\n",
    "            })\n",
    "        else:\n",
    "            features['EOS'] = True\n",
    "\n",
    "        return features\n",
    "    return [single_token2feature(tokens, i) for i in range(len(tokens))]"
   ]
  },
  {
   "cell_type": "markdown",
   "metadata": {},
   "source": [
    "### Get features\n",
    "### We transform our processed training and testing data into features <br><br> X_train, X_test contains the features, while y_train, y_test only contains the POS tags"
   ]
  },
  {
   "cell_type": "code",
   "execution_count": 9,
   "metadata": {},
   "outputs": [],
   "source": [
    "X_train = [token2features(tokens) for tokens,_ in train]\n",
    "y_train = [pos for _, pos in train]"
   ]
  },
  {
   "cell_type": "code",
   "execution_count": 10,
   "metadata": {},
   "outputs": [],
   "source": [
    "X_test = [token2features(tokens) for tokens,_ in test]\n",
    "y_test = [pos for _, pos in test]"
   ]
  },
  {
   "cell_type": "markdown",
   "metadata": {},
   "source": [
    "# Training\n",
    "### We use the sklearn_crfsuite.CRF for training, the parameters supplied to the function (algorithm, c1, c2, max_iterations and  all_possible_transitions) are hyperparameters which we can use for optimization"
   ]
  },
  {
   "cell_type": "code",
   "execution_count": 11,
   "metadata": {},
   "outputs": [
    {
     "name": "stderr",
     "output_type": "stream",
     "text": [
      "/home/kevin/miniconda3/envs/dataS/lib/python3.8/site-packages/sklearn/base.py:209: FutureWarning: From version 0.24, get_params will raise an AttributeError if a parameter cannot be retrieved as an instance attribute. Previously it would return None.\n",
      "  warnings.warn('From version 0.24, get_params will raise an '\n"
     ]
    },
    {
     "data": {
      "text/plain": [
       "CRF(algorithm='lbfgs', all_possible_transitions=True, c1=0.1, c2=0.1,\n",
       "    keep_tempfiles=None, max_iterations=100)"
      ]
     },
     "execution_count": 11,
     "metadata": {},
     "output_type": "execute_result"
    }
   ],
   "source": [
    "crf = sklearn_crfsuite.CRF(\n",
    "    algorithm='lbfgs',\n",
    "    c1=0.1,\n",
    "    c2=0.1,\n",
    "    max_iterations=100,\n",
    "    all_possible_transitions=True\n",
    ")\n",
    "crf.fit(X_train, y_train)"
   ]
  },
  {
   "cell_type": "markdown",
   "metadata": {},
   "source": [
    "## Display the classes of the model\n",
    "## Here we should see the POS tags that our model can predict"
   ]
  },
  {
   "cell_type": "code",
   "execution_count": 12,
   "metadata": {},
   "outputs": [
    {
     "data": {
      "text/plain": [
       "['DET',\n",
       " 'NOUN',\n",
       " 'ADJ',\n",
       " 'VERB',\n",
       " 'ADP',\n",
       " '.',\n",
       " 'ADV',\n",
       " 'CONJ',\n",
       " 'PRT',\n",
       " 'PRON',\n",
       " 'NUM',\n",
       " 'X']"
      ]
     },
     "execution_count": 12,
     "metadata": {},
     "output_type": "execute_result"
    }
   ],
   "source": [
    "crf.classes_"
   ]
  },
  {
   "cell_type": "markdown",
   "metadata": {},
   "source": [
    "# Testing\n",
    "### We used X_train, y_train for training the model, now we will use X_test, y_test for testing the model. To do the testing first we predict the POS tags of X_test with our model, then we compare the predicted POS tags to the ground truth POS tags of y_test using the f1 score."
   ]
  },
  {
   "cell_type": "code",
   "execution_count": 13,
   "metadata": {},
   "outputs": [
    {
     "data": {
      "text/plain": [
       "0.909573491340991"
      ]
     },
     "execution_count": 13,
     "metadata": {},
     "output_type": "execute_result"
    }
   ],
   "source": [
    "y_pred = crf.predict(X_test)\n",
    "metrics.flat_f1_score(y_test, y_pred, average='weighted')"
   ]
  },
  {
   "cell_type": "markdown",
   "metadata": {},
   "source": [
    "# Running on custom text\n",
    "## Here we can try our model on some custom text\n",
    "## First let's define some helper functions that will help us in the transformation of the input text into a format that our model can understand"
   ]
  },
  {
   "cell_type": "code",
   "execution_count": 14,
   "metadata": {},
   "outputs": [],
   "source": [
    "def pre_process(custom):\n",
    "    if isinstance(custom, str):  \n",
    "        tokenized = nlp(custom)\n",
    "        postags = [token.pos_ for token in tokenized]\n",
    "        return tokenized, postags\n",
    "    elif isinstance(custom, list):\n",
    "        tokenized = []\n",
    "        postags = []\n",
    "        for item in custom:\n",
    "            if isinstance(item, spacy.tokens.token.Token):\n",
    "                tokenized.append(item)\n",
    "                postags.append(item.pos_)\n",
    "            else:\n",
    "                token = nlp(item)[0]\n",
    "                tokenized.append(token)\n",
    "                postags.append(token.pos_)   \n",
    "        return tokenized, postags\n",
    "    else:\n",
    "        postags = [token.pos_ for token in custom]\n",
    "        return custom, postags\n",
    "\n",
    "def pos_tagger(custom):\n",
    "    tokens, postags = pre_process(custom)\n",
    "    features = token2features(tokens)\n",
    "    return crf.predict([features]), postags        "
   ]
  },
  {
   "cell_type": "code",
   "execution_count": 15,
   "metadata": {},
   "outputs": [],
   "source": [
    "def evaluate_custom(custom):\n",
    "    predict, true = pos_tagger(custom)\n",
    "\n",
    "    predict = predict[0] # Remove from inner list\n",
    "\n",
    "    correct = 0\n",
    "    for i in range(len(predict)):\n",
    "        if(predict[i] == true[i]):\n",
    "            correct += 1\n",
    "\n",
    "    print(f\"Predicted: {predict}\")\n",
    "    print(f\"True: {true}\")\n",
    "    print(f\"Accuracy: {correct}/{len(predict)}\")"
   ]
  },
  {
   "cell_type": "markdown",
   "metadata": {},
   "source": [
    "# We can use string or a list of tokens as input"
   ]
  },
  {
   "cell_type": "markdown",
   "metadata": {},
   "source": [
    "## Example with string"
   ]
  },
  {
   "cell_type": "code",
   "execution_count": 16,
   "metadata": {},
   "outputs": [
    {
     "name": "stdout",
     "output_type": "stream",
     "text": [
      "Predicted: ['NOUN', 'DET', 'VERB', 'DET', 'NOUN']\n",
      "True: ['INTJ', 'DET', 'AUX', 'DET', 'NOUN']\n",
      "Accuracy: 3/5\n"
     ]
    }
   ],
   "source": [
    "evaluate_custom(\"Hello this is a test\")"
   ]
  },
  {
   "cell_type": "markdown",
   "metadata": {},
   "source": [
    "## Example with tokens"
   ]
  },
  {
   "cell_type": "code",
   "execution_count": 17,
   "metadata": {},
   "outputs": [
    {
     "name": "stdout",
     "output_type": "stream",
     "text": [
      "Predicted: ['DET', 'VERB', 'DET', 'VERB', 'NOUN', 'ADP', 'NOUN', '.']\n",
      "True: ['DET', 'AUX', 'DET', 'VERB', 'NOUN', 'ADP', 'NOUN', 'PUNCT']\n",
      "Accuracy: 6/8\n"
     ]
    }
   ],
   "source": [
    "tokens = nlp(\"This is a tokenized list of words.\")\n",
    "evaluate_custom(tokens)"
   ]
  },
  {
   "cell_type": "code",
   "execution_count": 18,
   "metadata": {},
   "outputs": [
    {
     "data": {
      "text/plain": [
       "([['DET', 'VERB', 'DET', 'VERB', 'NOUN', 'ADP', 'NOUN', '.']],\n",
       " ['DET', 'AUX', 'X', 'VERB', 'PROPN', 'ADP', 'NOUN', 'PUNCT'])"
      ]
     },
     "execution_count": 18,
     "metadata": {},
     "output_type": "execute_result"
    }
   ],
   "source": [
    "pos_tagger(['This', 'is', 'a', 'tokenized', 'list', 'of', 'words', '.'])"
   ]
  },
  {
   "cell_type": "markdown",
   "metadata": {},
   "source": [
    "## Try something (type your text here)"
   ]
  },
  {
   "cell_type": "code",
   "execution_count": 19,
   "metadata": {},
   "outputs": [
    {
     "name": "stdout",
     "output_type": "stream",
     "text": [
      "Try something\n",
      "Hello this is my test\n",
      "Predicted: ['NOUN', 'DET', 'VERB', 'DET', 'NOUN']\n",
      "True: ['INTJ', 'DET', 'AUX', 'DET', 'NOUN']\n",
      "Accuracy: 3/5\n"
     ]
    }
   ],
   "source": [
    "print(\"Try something\")\n",
    "Text = input()\n",
    "evaluate_custom(Text)"
   ]
  }
 ],
 "metadata": {
  "kernelspec": {
   "display_name": "Python 3",
   "language": "python",
   "name": "python3"
  },
  "language_info": {
   "codemirror_mode": {
    "name": "ipython",
    "version": 3
   },
   "file_extension": ".py",
   "mimetype": "text/x-python",
   "name": "python",
   "nbconvert_exporter": "python",
   "pygments_lexer": "ipython3",
   "version": "3.8.5"
  }
 },
 "nbformat": 4,
 "nbformat_minor": 4
}
